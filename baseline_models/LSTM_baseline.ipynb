{
 "cells": [
  {
   "cell_type": "code",
   "execution_count": 7,
   "metadata": {},
   "outputs": [],
   "source": [
    "# Data Processing Libraries\n",
    "import pandas as pd\n",
    "import os\n",
    "import csv\n",
    "import numpy as np\n",
    "from tqdm import tqdm\n",
    "import pickle\n",
    "import matplotlib.pyplot as plt\n",
    "\n",
    "# Model Libraries \n",
    "from sklearn.model_selection import train_test_split\n",
    "from sklearn.preprocessing import LabelEncoder\n",
    "from sklearn.decomposition import PCA\n",
    "import tensorflow as tf\n",
    "from tensorflow.keras.utils import to_categorical\n",
    "from tensorflow.keras.models import Sequential\n",
    "from tensorflow.keras.layers import Dense, Flatten, LSTM\n",
    "from tensorflow.keras import regularizers"
   ]
  },
  {
   "cell_type": "code",
   "execution_count": null,
   "metadata": {},
   "outputs": [],
   "source": []
  },
  {
   "cell_type": "markdown",
   "metadata": {},
   "source": [
    "### Load Model Data \n",
    "Checkpoint: Load cached data here"
   ]
  },
  {
   "cell_type": "code",
   "execution_count": 8,
   "metadata": {},
   "outputs": [
    {
     "data": {
      "text/html": [
       "<div>\n",
       "<style scoped>\n",
       "    .dataframe tbody tr th:only-of-type {\n",
       "        vertical-align: middle;\n",
       "    }\n",
       "\n",
       "    .dataframe tbody tr th {\n",
       "        vertical-align: top;\n",
       "    }\n",
       "\n",
       "    .dataframe thead th {\n",
       "        text-align: right;\n",
       "    }\n",
       "</style>\n",
       "<table border=\"1\" class=\"dataframe\">\n",
       "  <thead>\n",
       "    <tr style=\"text-align: right;\">\n",
       "      <th></th>\n",
       "      <th>race</th>\n",
       "      <th>sample_data</th>\n",
       "      <th>label</th>\n",
       "    </tr>\n",
       "  </thead>\n",
       "  <tbody>\n",
       "    <tr>\n",
       "      <th>0</th>\n",
       "      <td>white</td>\n",
       "      <td>[[0.0, 0.0010240421486530794, 1.0, 0.0, 0.0, 0...</td>\n",
       "      <td>Metaplastic carcinoma, NOS</td>\n",
       "    </tr>\n",
       "    <tr>\n",
       "      <th>1</th>\n",
       "      <td>white</td>\n",
       "      <td>[[0.0, 0.0010240421486530794, 1.0, 0.0, 0.0, 0...</td>\n",
       "      <td>Metaplastic carcinoma, NOS</td>\n",
       "    </tr>\n",
       "    <tr>\n",
       "      <th>2</th>\n",
       "      <td>white</td>\n",
       "      <td>[[0.0, 0.0010240421486530794, 1.0, 0.0, 0.0, 0...</td>\n",
       "      <td>Infiltrating duct carcinoma, NOS</td>\n",
       "    </tr>\n",
       "    <tr>\n",
       "      <th>3</th>\n",
       "      <td>white</td>\n",
       "      <td>[[0.0, 0.0010240421486530794, 1.0, 0.0, 0.0, 0...</td>\n",
       "      <td>Infiltrating duct carcinoma, NOS</td>\n",
       "    </tr>\n",
       "    <tr>\n",
       "      <th>4</th>\n",
       "      <td>white</td>\n",
       "      <td>[[0.0, 0.0010240421486530794, 1.0, 0.0, 0.0, 0...</td>\n",
       "      <td>Infiltrating duct carcinoma, NOS</td>\n",
       "    </tr>\n",
       "    <tr>\n",
       "      <th>...</th>\n",
       "      <td>...</td>\n",
       "      <td>...</td>\n",
       "      <td>...</td>\n",
       "    </tr>\n",
       "    <tr>\n",
       "      <th>1495</th>\n",
       "      <td>not reported</td>\n",
       "      <td>[[0.0, 0.0010240421486530794, 1.0, 0.0, 0.0, 0...</td>\n",
       "      <td>Infiltrating duct carcinoma, NOS</td>\n",
       "    </tr>\n",
       "    <tr>\n",
       "      <th>1496</th>\n",
       "      <td>not reported</td>\n",
       "      <td>[[0.0, 0.0010240421486530794, 1.0, 0.0, 0.0, 0...</td>\n",
       "      <td>Infiltrating duct carcinoma, NOS</td>\n",
       "    </tr>\n",
       "    <tr>\n",
       "      <th>1497</th>\n",
       "      <td>black or african american</td>\n",
       "      <td>[[0.0, 0.0010240421486530794, 1.0, 0.0, 0.0, 0...</td>\n",
       "      <td>Infiltrating duct carcinoma, NOS</td>\n",
       "    </tr>\n",
       "    <tr>\n",
       "      <th>1498</th>\n",
       "      <td>black or african american</td>\n",
       "      <td>[[0.0, 0.0010240421486530794, 1.0, 0.0, 0.0, 0...</td>\n",
       "      <td>Infiltrating duct carcinoma, NOS</td>\n",
       "    </tr>\n",
       "    <tr>\n",
       "      <th>1499</th>\n",
       "      <td>white</td>\n",
       "      <td>[[0.0, 0.0010240421486530794, 1.0, 0.0, 0.0, 0...</td>\n",
       "      <td>Infiltrating duct carcinoma, NOS</td>\n",
       "    </tr>\n",
       "  </tbody>\n",
       "</table>\n",
       "<p>1500 rows × 3 columns</p>\n",
       "</div>"
      ],
      "text/plain": [
       "                           race  \\\n",
       "0                         white   \n",
       "1                         white   \n",
       "2                         white   \n",
       "3                         white   \n",
       "4                         white   \n",
       "...                         ...   \n",
       "1495               not reported   \n",
       "1496               not reported   \n",
       "1497  black or african american   \n",
       "1498  black or african american   \n",
       "1499                      white   \n",
       "\n",
       "                                            sample_data  \\\n",
       "0     [[0.0, 0.0010240421486530794, 1.0, 0.0, 0.0, 0...   \n",
       "1     [[0.0, 0.0010240421486530794, 1.0, 0.0, 0.0, 0...   \n",
       "2     [[0.0, 0.0010240421486530794, 1.0, 0.0, 0.0, 0...   \n",
       "3     [[0.0, 0.0010240421486530794, 1.0, 0.0, 0.0, 0...   \n",
       "4     [[0.0, 0.0010240421486530794, 1.0, 0.0, 0.0, 0...   \n",
       "...                                                 ...   \n",
       "1495  [[0.0, 0.0010240421486530794, 1.0, 0.0, 0.0, 0...   \n",
       "1496  [[0.0, 0.0010240421486530794, 1.0, 0.0, 0.0, 0...   \n",
       "1497  [[0.0, 0.0010240421486530794, 1.0, 0.0, 0.0, 0...   \n",
       "1498  [[0.0, 0.0010240421486530794, 1.0, 0.0, 0.0, 0...   \n",
       "1499  [[0.0, 0.0010240421486530794, 1.0, 0.0, 0.0, 0...   \n",
       "\n",
       "                                 label  \n",
       "0           Metaplastic carcinoma, NOS  \n",
       "1           Metaplastic carcinoma, NOS  \n",
       "2     Infiltrating duct carcinoma, NOS  \n",
       "3     Infiltrating duct carcinoma, NOS  \n",
       "4     Infiltrating duct carcinoma, NOS  \n",
       "...                                ...  \n",
       "1495  Infiltrating duct carcinoma, NOS  \n",
       "1496  Infiltrating duct carcinoma, NOS  \n",
       "1497  Infiltrating duct carcinoma, NOS  \n",
       "1498  Infiltrating duct carcinoma, NOS  \n",
       "1499  Infiltrating duct carcinoma, NOS  \n",
       "\n",
       "[1500 rows x 3 columns]"
      ]
     },
     "execution_count": 8,
     "metadata": {},
     "output_type": "execute_result"
    }
   ],
   "source": [
    "# Test Loading Data\n",
    "model_data_df = pickle.load(open('../data/model_data.pkl', 'rb'))\n",
    "model_data_df"
   ]
  },
  {
   "cell_type": "code",
   "execution_count": null,
   "metadata": {},
   "outputs": [],
   "source": []
  },
  {
   "cell_type": "markdown",
   "metadata": {},
   "source": [
    "### Preprocess Data"
   ]
  },
  {
   "cell_type": "code",
   "execution_count": 9,
   "metadata": {},
   "outputs": [],
   "source": [
    "# ONE HOT ENCODE DATA\n",
    "encoded_labels = pd.get_dummies(model_data_df.label)\n",
    "encoded_df = model_data_df.join(encoded_labels)\n"
   ]
  },
  {
   "cell_type": "code",
   "execution_count": 10,
   "metadata": {},
   "outputs": [],
   "source": [
    "# Filter Data Frames by Race \n",
    "white_df = encoded_df[encoded_df[\"race\"] == \"white\"]\n",
    "black_df = encoded_df[encoded_df[\"race\"] == \"black or african american\"]\n",
    "asian_df = encoded_df[encoded_df[\"race\"] == \"asian\"]\n",
    "prognosis_names = encoded_df.label.unique()\n",
    "\n",
    "# Train Test Split\n",
    "def df_split(df): \n",
    "    split_index = int(0.7 * len(df)) \n",
    "    return df.iloc[:split_index], df.iloc[split_index:]\n",
    "\n",
    "train_white_df, test_white_df = df_split(white_df) \n",
    "train_black_df, test_black_df = df_split(black_df) \n",
    "train_asian_df, test_asian_df = df_split(asian_df)\n",
    "\n",
    "# Concatenate Final Sets \n",
    "train_df = train_white_df\n",
    "# train_df = pd.concat([train_white_df, train_black_df, train_asian_df])"
   ]
  },
  {
   "cell_type": "code",
   "execution_count": null,
   "metadata": {},
   "outputs": [],
   "source": []
  },
  {
   "cell_type": "markdown",
   "metadata": {},
   "source": [
    "### Model Results for (train white, test black / asian)"
   ]
  },
  {
   "cell_type": "code",
   "execution_count": 66,
   "metadata": {},
   "outputs": [],
   "source": [
    "# Prepare Model Data --> [takes 2 min.]\n",
    "pca = PCA(n_components=25) \n",
    "prognosis_names = encoded_df.label.unique()\n",
    "\n",
    "def get_x_y(df): \n",
    "    x = np.array([pca.fit_transform(np.transpose(data)) for data in df.sample_data.values]) # shrink to 26 values\n",
    "    y = df.filter(prognosis_names).values\n",
    "    return x, y\n",
    "\n",
    "def train_val_split(data):\n",
    "    # returns: x_train, x_val, y_train, y_val\n",
    "    x, y = data\n",
    "    return train_test_split(x, y, test_size=0.15, random_state=42)\n",
    "\n",
    "\n",
    "##### Main Code #########\n",
    "x_train, x_val, y_train, y_val = train_val_split(get_x_y(train_df)) # training data\n",
    "\n",
    "x_test_white, y_test_white = get_x_y(test_black_df)\n",
    "x_test_black, y_test_black = get_x_y(test_black_df)\n",
    "x_test_asian, y_test_asian = get_x_y(test_asian_df)"
   ]
  },
  {
   "cell_type": "code",
   "execution_count": 71,
   "metadata": {},
   "outputs": [
    {
     "name": "stdout",
     "output_type": "stream",
     "text": [
      "Epoch 1/8\n",
      "19/19 [==============================] - 4s 48ms/step - loss: 2.5597 - accuracy: 0.3738 - val_loss: 1.7313 - val_accuracy: 0.6822\n",
      "Epoch 2/8\n",
      "19/19 [==============================] - 0s 14ms/step - loss: 1.4710 - accuracy: 0.6611 - val_loss: 1.1725 - val_accuracy: 0.6822\n",
      "Epoch 3/8\n",
      "19/19 [==============================] - 0s 12ms/step - loss: 1.1547 - accuracy: 0.6611 - val_loss: 1.0802 - val_accuracy: 0.6822\n",
      "Epoch 4/8\n",
      "19/19 [==============================] - 0s 13ms/step - loss: 1.0882 - accuracy: 0.6661 - val_loss: 1.0592 - val_accuracy: 0.6822\n",
      "Epoch 5/8\n",
      "19/19 [==============================] - 0s 13ms/step - loss: 1.0550 - accuracy: 0.6661 - val_loss: 1.0623 - val_accuracy: 0.6542\n",
      "Epoch 6/8\n",
      "19/19 [==============================] - 0s 13ms/step - loss: 1.0218 - accuracy: 0.6728 - val_loss: 1.0499 - val_accuracy: 0.6822\n",
      "Epoch 7/8\n",
      "19/19 [==============================] - 0s 13ms/step - loss: 1.0033 - accuracy: 0.6728 - val_loss: 1.0569 - val_accuracy: 0.6729\n",
      "Epoch 8/8\n",
      "19/19 [==============================] - 0s 12ms/step - loss: 0.9780 - accuracy: 0.6827 - val_loss: 1.0458 - val_accuracy: 0.6729\n"
     ]
    }
   ],
   "source": [
    "# TRAIN MODEL\n",
    "\n",
    "# Creating an LSTM model \n",
    "model = Sequential()\n",
    "model.add(LSTM(64, input_shape=(x_train.shape[1], x_train.shape[2])))  # Adjust the units as needed\n",
    "model.add(Dense(23, activation='softmax'))  # Output layer with 23 classes and softmax activation\n",
    "\n",
    "# Compile the model\n",
    "model.compile(optimizer='adam', loss='categorical_crossentropy', metrics=['accuracy'])\n",
    "\n",
    "# Training the model\n",
    "history = model.fit(x_train, y_train, epochs=8, batch_size=32, validation_data=(x_val, y_val))  # Adjust epochs and batch_size as needed"
   ]
  },
  {
   "cell_type": "code",
   "execution_count": 72,
   "metadata": {},
   "outputs": [
    {
     "data": {
      "image/png": "[encoded data removed]",
      "text/plain": [
       "<Figure size 1000x500 with 2 Axes>"
      ]
     },
     "metadata": {},
     "output_type": "display_data"
    }
   ],
   "source": [
    "# PLOT MODEL PROGRESS\n",
    "\n",
    "# Get training history\n",
    "training_loss = history.history['loss']\n",
    "training_accuracy = history.history['accuracy']\n",
    "val_loss = history.history['val_loss']\n",
    "val_accuracy = history.history['val_accuracy']\n",
    "epochs = range(1, len(training_loss) + 1)\n",
    "\n",
    "# Plotting loss\n",
    "plt.figure(figsize=(10, 5))\n",
    "plt.subplot(1, 2, 1)\n",
    "plt.plot(epochs, training_loss, label='Training Loss')\n",
    "plt.plot(epochs, val_loss, label='Validation Loss')\n",
    "plt.title('Training and Validation Loss')\n",
    "plt.xlabel('Epochs')\n",
    "plt.ylabel('Loss')\n",
    "plt.legend()\n",
    "\n",
    "# Plotting accuracy\n",
    "plt.subplot(1, 2, 2)\n",
    "plt.plot(epochs, training_accuracy, label='Training Accuracy')\n",
    "plt.plot(epochs, val_accuracy, label='Validation Accuracy')\n",
    "plt.title('Training and Validation Accuracy')\n",
    "plt.xlabel('Epochs')\n",
    "plt.ylabel('Accuracy')\n",
    "plt.legend()\n",
    "\n",
    "plt.tight_layout()\n",
    "plt.show()"
   ]
  },
  {
   "cell_type": "code",
   "execution_count": 73,
   "metadata": {},
   "outputs": [
    {
     "name": "stdout",
     "output_type": "stream",
     "text": [
      "3/3 [==============================] - 0s 5ms/step - loss: 0.9904 - accuracy: 0.7949\n",
      "Performance on White Patients\n",
      "----------------------------------\n",
      "Loss on test data: 0.990433931350708\n",
      "Accuracy on test data: 0.7948718070983887\n"
     ]
    }
   ],
   "source": [
    "# Check Test Performance - White Patients\n",
    "evaluation = model.evaluate(x_test_white, y_test_white)\n",
    "\n",
    "# 'evaluation' will contain the loss value and accuracy\n",
    "loss = evaluation[0]\n",
    "accuracy = evaluation[1]\n",
    "\n",
    "print(\"Performance on White Patients\")\n",
    "print(\"----------------------------------\")\n",
    "print(f\"Loss on test data: {loss}\")\n",
    "print(f\"Accuracy on test data: {accuracy}\")\n"
   ]
  },
  {
   "cell_type": "code",
   "execution_count": 74,
   "metadata": {},
   "outputs": [
    {
     "name": "stdout",
     "output_type": "stream",
     "text": [
      "3/3 [==============================] - 0s 9ms/step - loss: 0.9904 - accuracy: 0.7949\n",
      "Performance on Black Patients\n",
      "----------------------------------\n",
      "Loss on test data: 0.990433931350708\n",
      "Accuracy on test data: 0.7948718070983887\n"
     ]
    }
   ],
   "source": [
    "# Check Test Performance - Black & AA Patients\n",
    "evaluation = model.evaluate(x_test_black, y_test_black)\n",
    "\n",
    "# 'evaluation' will contain the loss value and accuracy\n",
    "loss = evaluation[0]\n",
    "accuracy = evaluation[1]\n",
    "\n",
    "print(\"Performance on Black Patients\")\n",
    "print(\"----------------------------------\")\n",
    "print(f\"Loss on test data: {loss}\")\n",
    "print(f\"Accuracy on test data: {accuracy}\")\n"
   ]
  },
  {
   "cell_type": "code",
   "execution_count": 75,
   "metadata": {},
   "outputs": [
    {
     "name": "stdout",
     "output_type": "stream",
     "text": [
      "1/1 [==============================] - 0s 51ms/step - loss: 0.6388 - accuracy: 0.8214\n",
      "Performance on Asian Patients\n",
      "----------------------------------\n",
      "Loss on test data: 0.6388244032859802\n",
      "Accuracy on test data: 0.8214285969734192\n"
     ]
    }
   ],
   "source": [
    "# Check Test Performance - Asian Patients\n",
    "evaluation = model.evaluate(x_test_asian, y_test_asian)\n",
    "\n",
    "# 'evaluation' will contain the loss value and accuracy\n",
    "loss = evaluation[0]\n",
    "accuracy = evaluation[1]\n",
    "\n",
    "print(\"Performance on Asian Patients\")\n",
    "print(\"----------------------------------\")\n",
    "print(f\"Loss on test data: {loss}\")\n",
    "print(f\"Accuracy on test data: {accuracy}\")\n"
   ]
  },
  {
   "cell_type": "code",
   "execution_count": null,
   "metadata": {},
   "outputs": [],
   "source": []
  },
  {
   "cell_type": "code",
   "execution_count": null,
   "metadata": {},
   "outputs": [],
   "source": []
  },
  {
   "cell_type": "code",
   "execution_count": null,
   "metadata": {},
   "outputs": [],
   "source": []
  },
  {
   "cell_type": "code",
   "execution_count": null,
   "metadata": {},
   "outputs": [],
   "source": []
  }
 ],
 "metadata": {
  "kernelspec": {
   "display_name": "Python 3",
   "language": "python",
   "name": "python3"
  },
  "language_info": {
   "codemirror_mode": {
    "name": "ipython",
    "version": 3
   },
   "file_extension": ".py",
   "mimetype": "text/x-python",
   "name": "python",
   "nbconvert_exporter": "python",
   "pygments_lexer": "ipython3",
   "version": "3.9.18"
  },
  "orig_nbformat": 4
 },
 "nbformat": 4,
 "nbformat_minor": 2
}
