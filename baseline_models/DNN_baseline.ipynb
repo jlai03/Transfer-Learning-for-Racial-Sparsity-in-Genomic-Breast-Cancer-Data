{
 "cells": [
  {
   "cell_type": "code",
   "execution_count": 1,
   "metadata": {},
   "outputs": [
    {
     "name": "stderr",
     "output_type": "stream",
     "text": [
      "2023-12-07 21:58:28.911574: I tensorflow/core/platform/cpu_feature_guard.cc:182] This TensorFlow binary is optimized to use available CPU instructions in performance-critical operations.\n",
      "To enable the following instructions: AVX2 FMA, in other operations, rebuild TensorFlow with the appropriate compiler flags.\n"
     ]
    }
   ],
   "source": [
    "# Data Processing Libraries\n",
    "import pandas as pd\n",
    "import os\n",
    "import csv\n",
    "import numpy as np\n",
    "from tqdm import tqdm\n",
    "import pickle\n",
    "import matplotlib.pyplot as plt\n",
    "\n",
    "# Model Libraries \n",
    "from sklearn.model_selection import train_test_split\n",
    "from sklearn.preprocessing import LabelEncoder\n",
    "import tensorflow as tf\n",
    "from tensorflow.keras.utils import to_categorical\n",
    "from tensorflow.keras.models import Sequential\n",
    "from tensorflow.keras.layers import Dense, Flatten\n",
    "from tensorflow.keras import regularizers"
   ]
  },
  {
   "cell_type": "code",
   "execution_count": null,
   "metadata": {},
   "outputs": [],
   "source": []
  },
  {
   "cell_type": "markdown",
   "metadata": {},
   "source": [
    "### Load Model Data \n",
    "Checkpoint: Load cached data here"
   ]
  },
  {
   "cell_type": "code",
   "execution_count": 2,
   "metadata": {},
   "outputs": [
    {
     "data": {
      "text/html": [
       "<div>\n",
       "<style scoped>\n",
       "    .dataframe tbody tr th:only-of-type {\n",
       "        vertical-align: middle;\n",
       "    }\n",
       "\n",
       "    .dataframe tbody tr th {\n",
       "        vertical-align: top;\n",
       "    }\n",
       "\n",
       "    .dataframe thead th {\n",
       "        text-align: right;\n",
       "    }\n",
       "</style>\n",
       "<table border=\"1\" class=\"dataframe\">\n",
       "  <thead>\n",
       "    <tr style=\"text-align: right;\">\n",
       "      <th></th>\n",
       "      <th>race</th>\n",
       "      <th>sample_data</th>\n",
       "      <th>label</th>\n",
       "    </tr>\n",
       "  </thead>\n",
       "  <tbody>\n",
       "    <tr>\n",
       "      <th>0</th>\n",
       "      <td>white</td>\n",
       "      <td>[[0.0, 0.0010240421486530794, 1.0, 0.0, 0.0, 0...</td>\n",
       "      <td>Metaplastic carcinoma, NOS</td>\n",
       "    </tr>\n",
       "    <tr>\n",
       "      <th>1</th>\n",
       "      <td>white</td>\n",
       "      <td>[[0.0, 0.0010240421486530794, 1.0, 0.0, 0.0, 0...</td>\n",
       "      <td>Metaplastic carcinoma, NOS</td>\n",
       "    </tr>\n",
       "    <tr>\n",
       "      <th>2</th>\n",
       "      <td>white</td>\n",
       "      <td>[[0.0, 0.0010240421486530794, 1.0, 0.0, 0.0, 0...</td>\n",
       "      <td>Infiltrating duct carcinoma, NOS</td>\n",
       "    </tr>\n",
       "    <tr>\n",
       "      <th>3</th>\n",
       "      <td>white</td>\n",
       "      <td>[[0.0, 0.0010240421486530794, 1.0, 0.0, 0.0, 0...</td>\n",
       "      <td>Infiltrating duct carcinoma, NOS</td>\n",
       "    </tr>\n",
       "    <tr>\n",
       "      <th>4</th>\n",
       "      <td>white</td>\n",
       "      <td>[[0.0, 0.0010240421486530794, 1.0, 0.0, 0.0, 0...</td>\n",
       "      <td>Infiltrating duct carcinoma, NOS</td>\n",
       "    </tr>\n",
       "    <tr>\n",
       "      <th>...</th>\n",
       "      <td>...</td>\n",
       "      <td>...</td>\n",
       "      <td>...</td>\n",
       "    </tr>\n",
       "    <tr>\n",
       "      <th>1495</th>\n",
       "      <td>not reported</td>\n",
       "      <td>[[0.0, 0.0010240421486530794, 1.0, 0.0, 0.0, 0...</td>\n",
       "      <td>Infiltrating duct carcinoma, NOS</td>\n",
       "    </tr>\n",
       "    <tr>\n",
       "      <th>1496</th>\n",
       "      <td>not reported</td>\n",
       "      <td>[[0.0, 0.0010240421486530794, 1.0, 0.0, 0.0, 0...</td>\n",
       "      <td>Infiltrating duct carcinoma, NOS</td>\n",
       "    </tr>\n",
       "    <tr>\n",
       "      <th>1497</th>\n",
       "      <td>black or african american</td>\n",
       "      <td>[[0.0, 0.0010240421486530794, 1.0, 0.0, 0.0, 0...</td>\n",
       "      <td>Infiltrating duct carcinoma, NOS</td>\n",
       "    </tr>\n",
       "    <tr>\n",
       "      <th>1498</th>\n",
       "      <td>black or african american</td>\n",
       "      <td>[[0.0, 0.0010240421486530794, 1.0, 0.0, 0.0, 0...</td>\n",
       "      <td>Infiltrating duct carcinoma, NOS</td>\n",
       "    </tr>\n",
       "    <tr>\n",
       "      <th>1499</th>\n",
       "      <td>white</td>\n",
       "      <td>[[0.0, 0.0010240421486530794, 1.0, 0.0, 0.0, 0...</td>\n",
       "      <td>Infiltrating duct carcinoma, NOS</td>\n",
       "    </tr>\n",
       "  </tbody>\n",
       "</table>\n",
       "<p>1500 rows × 3 columns</p>\n",
       "</div>"
      ],
      "text/plain": [
       "                           race  \\\n",
       "0                         white   \n",
       "1                         white   \n",
       "2                         white   \n",
       "3                         white   \n",
       "4                         white   \n",
       "...                         ...   \n",
       "1495               not reported   \n",
       "1496               not reported   \n",
       "1497  black or african american   \n",
       "1498  black or african american   \n",
       "1499                      white   \n",
       "\n",
       "                                            sample_data  \\\n",
       "0     [[0.0, 0.0010240421486530794, 1.0, 0.0, 0.0, 0...   \n",
       "1     [[0.0, 0.0010240421486530794, 1.0, 0.0, 0.0, 0...   \n",
       "2     [[0.0, 0.0010240421486530794, 1.0, 0.0, 0.0, 0...   \n",
       "3     [[0.0, 0.0010240421486530794, 1.0, 0.0, 0.0, 0...   \n",
       "4     [[0.0, 0.0010240421486530794, 1.0, 0.0, 0.0, 0...   \n",
       "...                                                 ...   \n",
       "1495  [[0.0, 0.0010240421486530794, 1.0, 0.0, 0.0, 0...   \n",
       "1496  [[0.0, 0.0010240421486530794, 1.0, 0.0, 0.0, 0...   \n",
       "1497  [[0.0, 0.0010240421486530794, 1.0, 0.0, 0.0, 0...   \n",
       "1498  [[0.0, 0.0010240421486530794, 1.0, 0.0, 0.0, 0...   \n",
       "1499  [[0.0, 0.0010240421486530794, 1.0, 0.0, 0.0, 0...   \n",
       "\n",
       "                                 label  \n",
       "0           Metaplastic carcinoma, NOS  \n",
       "1           Metaplastic carcinoma, NOS  \n",
       "2     Infiltrating duct carcinoma, NOS  \n",
       "3     Infiltrating duct carcinoma, NOS  \n",
       "4     Infiltrating duct carcinoma, NOS  \n",
       "...                                ...  \n",
       "1495  Infiltrating duct carcinoma, NOS  \n",
       "1496  Infiltrating duct carcinoma, NOS  \n",
       "1497  Infiltrating duct carcinoma, NOS  \n",
       "1498  Infiltrating duct carcinoma, NOS  \n",
       "1499  Infiltrating duct carcinoma, NOS  \n",
       "\n",
       "[1500 rows x 3 columns]"
      ]
     },
     "execution_count": 2,
     "metadata": {},
     "output_type": "execute_result"
    }
   ],
   "source": [
    "# Test Loading Data\n",
    "model_data_df = pickle.load(open('../data/model_data.pkl', 'rb'))\n",
    "model_data_df"
   ]
  },
  {
   "cell_type": "code",
   "execution_count": null,
   "metadata": {},
   "outputs": [],
   "source": []
  },
  {
   "cell_type": "markdown",
   "metadata": {},
   "source": [
    "### Preprocess Data"
   ]
  },
  {
   "cell_type": "code",
   "execution_count": 3,
   "metadata": {},
   "outputs": [],
   "source": [
    "# ONE HOT ENCODE DATA\n",
    "encoded_labels = pd.get_dummies(model_data_df.label)\n",
    "encoded_df = model_data_df.join(encoded_labels)\n"
   ]
  },
  {
   "cell_type": "code",
   "execution_count": 4,
   "metadata": {},
   "outputs": [],
   "source": [
    "# Filter Data Frames by Race \n",
    "white_df = encoded_df[encoded_df[\"race\"] == \"white\"]\n",
    "black_df = encoded_df[encoded_df[\"race\"] == \"black or african american\"]\n",
    "asian_df = encoded_df[encoded_df[\"race\"] == \"asian\"]\n",
    "prognosis_names = encoded_df.label.unique()\n",
    "\n",
    "# Train Test Split\n",
    "def df_split(df): \n",
    "    split_index = int(0.7 * len(df)) \n",
    "    return df.iloc[:split_index], df.iloc[split_index:]\n",
    "\n",
    "train_white_df, test_white_df = df_split(white_df) \n",
    "train_black_df, test_black_df = df_split(black_df) \n",
    "train_asian_df, test_asian_df = df_split(asian_df)\n",
    "\n",
    "# Concatenate Final Sets \n",
    "train_df = train_white_df\n",
    "# train_df = pd.concat([train_white_df, train_black_df, train_asian_df])"
   ]
  },
  {
   "cell_type": "code",
   "execution_count": null,
   "metadata": {},
   "outputs": [],
   "source": []
  },
  {
   "cell_type": "markdown",
   "metadata": {},
   "source": [
    "### Model Results for (train white, test black / asian)"
   ]
  },
  {
   "cell_type": "code",
   "execution_count": 5,
   "metadata": {},
   "outputs": [],
   "source": [
    "# Prepare Model Data --> [takes 1 min. 15 sec.]\n",
    "def get_x_y(df, prognosis_names): \n",
    "    x = np.stack(df.sample_data.values)\n",
    "    y = df.filter(prognosis_names).values\n",
    "    return x, y\n",
    "\n",
    "def train_val_split(data):\n",
    "    # returns: x_train, x_val, y_train, y_val\n",
    "    x, y = data\n",
    "    return train_test_split(x, y, test_size=0.15, random_state=42)\n",
    "\n",
    "\n",
    "##### Main Code #########\n",
    "x_train, x_val, y_train, y_val = train_val_split(get_x_y(train_df, prognosis_names)) # training data\n",
    "\n",
    "x_test_white, y_test_white = get_x_y(test_black_df, prognosis_names)\n",
    "x_test_black, y_test_black = get_x_y(test_black_df, prognosis_names)\n",
    "x_test_asian, y_test_asian = get_x_y(test_asian_df, prognosis_names)"
   ]
  },
  {
   "cell_type": "code",
   "execution_count": 6,
   "metadata": {},
   "outputs": [
    {
     "name": "stdout",
     "output_type": "stream",
     "text": [
      "Epoch 1/15\n",
      "19/19 [==============================] - 33s 2s/step - loss: 52.7404 - accuracy: 0.4252 - val_loss: 58.1514 - val_accuracy: 0.0841\n",
      "Epoch 2/15\n",
      "19/19 [==============================] - 43s 2s/step - loss: 38.8476 - accuracy: 0.5183 - val_loss: 26.1048 - val_accuracy: 0.5607\n",
      "Epoch 3/15\n",
      "19/19 [==============================] - 36s 2s/step - loss: 26.0122 - accuracy: 0.5764 - val_loss: 19.1951 - val_accuracy: 0.6729\n",
      "Epoch 4/15\n",
      "19/19 [==============================] - 33s 2s/step - loss: 18.8117 - accuracy: 0.5548 - val_loss: 23.3725 - val_accuracy: 0.6822\n",
      "Epoch 5/15\n",
      "19/19 [==============================] - 34s 2s/step - loss: 16.6971 - accuracy: 0.6146 - val_loss: 11.2475 - val_accuracy: 0.6729\n",
      "Epoch 6/15\n",
      "19/19 [==============================] - 34s 2s/step - loss: 10.0222 - accuracy: 0.6329 - val_loss: 8.2837 - val_accuracy: 0.2991\n",
      "Epoch 7/15\n",
      "19/19 [==============================] - 33s 2s/step - loss: 7.0240 - accuracy: 0.6545 - val_loss: 5.5320 - val_accuracy: 0.7196\n",
      "Epoch 8/15\n",
      "19/19 [==============================] - 28s 1s/step - loss: 5.0325 - accuracy: 0.7027 - val_loss: 4.2495 - val_accuracy: 0.7290\n",
      "Epoch 9/15\n",
      "19/19 [==============================] - 25s 1s/step - loss: 7.1851 - accuracy: 0.6080 - val_loss: 15.1397 - val_accuracy: 0.0000e+00\n",
      "Epoch 10/15\n",
      "19/19 [==============================] - 23s 1s/step - loss: 11.1948 - accuracy: 0.4053 - val_loss: 5.7729 - val_accuracy: 0.6168\n",
      "Epoch 11/15\n",
      "19/19 [==============================] - 23s 1s/step - loss: 5.5079 - accuracy: 0.5698 - val_loss: 4.1562 - val_accuracy: 0.6822\n",
      "Epoch 12/15\n",
      "19/19 [==============================] - 23s 1s/step - loss: 4.3118 - accuracy: 0.6179 - val_loss: 4.3150 - val_accuracy: 0.6822\n",
      "Epoch 13/15\n",
      "19/19 [==============================] - 23s 1s/step - loss: 4.2603 - accuracy: 0.6329 - val_loss: 4.3284 - val_accuracy: 0.6822\n",
      "Epoch 14/15\n",
      "19/19 [==============================] - 23s 1s/step - loss: 4.2431 - accuracy: 0.6728 - val_loss: 4.2904 - val_accuracy: 0.6822\n",
      "Epoch 15/15\n",
      "19/19 [==============================] - 23s 1s/step - loss: 3.5890 - accuracy: 0.6528 - val_loss: 3.4247 - val_accuracy: 0.6822\n"
     ]
    }
   ],
   "source": [
    "# TRAIN NEURAL NETWORK\n",
    "num_classes = model_data_df.label.nunique()\n",
    "\n",
    "# Basic DNN Model \n",
    "reg_rate = 0.1\n",
    "model = Sequential([\n",
    "    Flatten(input_shape=(60623, 26)),  # Flattening the input\n",
    "    Dense(64, activation='relu', kernel_regularizer=regularizers.l2(reg_rate)),\n",
    "    Dense(64, activation='relu', kernel_regularizer=regularizers.l2(reg_rate)),\n",
    "    Dense(num_classes, activation='softmax')  # Output layer with softmax for multi-class\n",
    "])\n",
    "\n",
    "# Compile the model\n",
    "model.compile(optimizer='adam', loss='categorical_crossentropy', metrics=['accuracy'])\n",
    "\n",
    "# Train the model\n",
    "history = model.fit(x_train, y_train, epochs=15, batch_size=32, validation_data=(x_val, y_val))\n"
   ]
  },
  {
   "cell_type": "code",
   "execution_count": 7,
   "metadata": {},
   "outputs": [
    {
     "data": {
      "image/png": "[encoded data removed]",
      "text/plain": [
       "<Figure size 1000x500 with 2 Axes>"
      ]
     },
     "metadata": {},
     "output_type": "display_data"
    }
   ],
   "source": [
    "# PLOT MODEL PROGRESS\n",
    "\n",
    "# Get training history\n",
    "training_loss = history.history['loss']\n",
    "training_accuracy = history.history['accuracy']\n",
    "val_loss = history.history['val_loss']\n",
    "val_accuracy = history.history['val_accuracy']\n",
    "epochs = range(1, len(training_loss) + 1)\n",
    "\n",
    "# Plotting loss\n",
    "plt.figure(figsize=(10, 5))\n",
    "plt.subplot(1, 2, 1)\n",
    "plt.plot(epochs, training_loss, label='Training Loss')\n",
    "plt.plot(epochs, val_loss, label='Validation Loss')\n",
    "plt.title('Training and Validation Loss')\n",
    "plt.xlabel('Epochs')\n",
    "plt.ylabel('Loss')\n",
    "plt.legend()\n",
    "\n",
    "# Plotting accuracy\n",
    "plt.subplot(1, 2, 2)\n",
    "plt.plot(epochs, training_accuracy, label='Training Accuracy')\n",
    "plt.plot(epochs, val_accuracy, label='Validation Accuracy')\n",
    "plt.title('Training and Validation Accuracy')\n",
    "plt.xlabel('Epochs')\n",
    "plt.ylabel('Accuracy')\n",
    "plt.legend()\n",
    "\n",
    "plt.tight_layout()\n",
    "plt.show()"
   ]
  },
  {
   "cell_type": "code",
   "execution_count": 8,
   "metadata": {},
   "outputs": [
    {
     "name": "stdout",
     "output_type": "stream",
     "text": [
      "3/3 [==============================] - 0s 68ms/step - loss: 3.0809 - accuracy: 0.8205\n",
      "Performance on White Patients\n",
      "----------------------------------\n",
      "Loss on test data: 3.080883026123047\n",
      "Accuracy on test data: 0.8205128312110901\n"
     ]
    }
   ],
   "source": [
    "# Check Test Performance - White Patients\n",
    "evaluation = model.evaluate(x_test_white, y_test_white)\n",
    "\n",
    "# 'evaluation' will contain the loss value and accuracy\n",
    "loss = evaluation[0]\n",
    "accuracy = evaluation[1]\n",
    "\n",
    "print(\"Performance on White Patients\")\n",
    "print(\"----------------------------------\")\n",
    "print(f\"Loss on test data: {loss}\")\n",
    "print(f\"Accuracy on test data: {accuracy}\")\n"
   ]
  },
  {
   "cell_type": "code",
   "execution_count": 9,
   "metadata": {},
   "outputs": [
    {
     "name": "stdout",
     "output_type": "stream",
     "text": [
      "3/3 [==============================] - 0s 70ms/step - loss: 3.0809 - accuracy: 0.8205\n",
      "Performance on Black Patients\n",
      "----------------------------------\n",
      "Loss on test data: 3.080883026123047\n",
      "Accuracy on test data: 0.8205128312110901\n"
     ]
    }
   ],
   "source": [
    "# Check Test Performance - Black & AA Patients\n",
    "evaluation = model.evaluate(x_test_black, y_test_black)\n",
    "\n",
    "# 'evaluation' will contain the loss value and accuracy\n",
    "loss = evaluation[0]\n",
    "accuracy = evaluation[1]\n",
    "\n",
    "print(\"Performance on Black Patients\")\n",
    "print(\"----------------------------------\")\n",
    "print(f\"Loss on test data: {loss}\")\n",
    "print(f\"Accuracy on test data: {accuracy}\")\n"
   ]
  },
  {
   "cell_type": "code",
   "execution_count": 10,
   "metadata": {},
   "outputs": [
    {
     "name": "stdout",
     "output_type": "stream",
     "text": [
      "1/1 [==============================] - 0s 247ms/step - loss: 2.8140 - accuracy: 0.8214\n",
      "Performance on Asian Patients\n",
      "----------------------------------\n",
      "Loss on test data: 2.8140149116516113\n",
      "Accuracy on test data: 0.8214285969734192\n"
     ]
    }
   ],
   "source": [
    "# Check Test Performance - Asian Patients\n",
    "evaluation = model.evaluate(x_test_asian, y_test_asian)\n",
    "\n",
    "# 'evaluation' will contain the loss value and accuracy\n",
    "loss = evaluation[0]\n",
    "accuracy = evaluation[1]\n",
    "\n",
    "print(\"Performance on Asian Patients\")\n",
    "print(\"----------------------------------\")\n",
    "print(f\"Loss on test data: {loss}\")\n",
    "print(f\"Accuracy on test data: {accuracy}\")\n"
   ]
  },
  {
   "cell_type": "code",
   "execution_count": null,
   "metadata": {},
   "outputs": [],
   "source": []
  },
  {
   "cell_type": "code",
   "execution_count": null,
   "metadata": {},
   "outputs": [],
   "source": []
  },
  {
   "cell_type": "code",
   "execution_count": null,
   "metadata": {},
   "outputs": [],
   "source": []
  },
  {
   "cell_type": "code",
   "execution_count": null,
   "metadata": {},
   "outputs": [],
   "source": []
  }
 ],
 "metadata": {
  "kernelspec": {
   "display_name": "Python 3",
   "language": "python",
   "name": "python3"
  },
  "language_info": {
   "codemirror_mode": {
    "name": "ipython",
    "version": 3
   },
   "file_extension": ".py",
   "mimetype": "text/x-python",
   "name": "python",
   "nbconvert_exporter": "python",
   "pygments_lexer": "ipython3",
   "version": "3.9.18"
  },
  "orig_nbformat": 4
 },
 "nbformat": 4,
 "nbformat_minor": 2
}
