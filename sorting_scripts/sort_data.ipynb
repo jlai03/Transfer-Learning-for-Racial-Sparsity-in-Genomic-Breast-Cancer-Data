{
 "cells": [
  {
   "cell_type": "markdown",
   "metadata": {},
   "source": [
    "### Sort Data Script \n",
    "\n",
    "Data under raw_data looks like: \n",
    "    \n",
    "    raw_data ----- sample_id1 --- .tsv file \n",
    "              |___ sample_id2 --- .tsv file \n",
    "              |____ ....\n",
    "              .\n",
    "              .___ sample_idn --- .tsv file \n",
    "\n",
    "This script sorts the tsv files by storing each tsv file under their respective case ID's (i.e. patient ID). So the processed data file will look like this: \n",
    "\n",
    "    processed_data ------ case_id1 ----- .tsv file 1 \n",
    "                      |           |_____ ..... \n",
    "                      |           . \n",
    "                      |           ._____ .tsv file n \n",
    "                      |\n",
    "                      |\n",
    "                      |\n",
    "                      |__ case_id2 ----- .tsv file 1 \n",
    "                      |           |_____ ..... \n",
    "                      |           . \n",
    "                      |           ._____ .tsv file n \n",
    "                      |\n",
    "                      . \n",
    "                      .\n",
    "                      .___ case_idx ----- .tsv file 1 \n",
    "                                  |_____ ..... \n",
    "                                  . \n",
    "                                  ._____ .tsv file n \n",
    "\n",
    "\n",
    "\n",
    "NOTE: This script queries GDC Endpoint for Case ID\n",
    "                      \n"
   ]
  },
  {
   "cell_type": "code",
   "execution_count": 1,
   "metadata": {},
   "outputs": [],
   "source": [
    "import pandas as pd\n",
    "import requests\n",
    "import os\n",
    "from tqdm import tqdm\n",
    "import shutil"
   ]
  },
  {
   "cell_type": "code",
   "execution_count": 5,
   "metadata": {},
   "outputs": [
    {
     "data": {
      "text/plain": [
       "['266fd576-2577-4294-bdaf-2d2d34a272b4',\n",
       " '9db51366-c3ea-4510-904f-883f1a316cfe',\n",
       " '791bbb6f-def9-47aa-b189-297205b68d99',\n",
       " 'e26abc28-15b0-4832-bd02-43c5dd0b55e8',\n",
       " '66c5fda2-ef4c-4a89-88a1-43403ed9cc7c',\n",
       " 'b17e24bc-425a-4851-82fd-d344ad582f9c',\n",
       " '62853e7e-71d0-484e-a58f-0db54e794112',\n",
       " '6a83b19d-999d-4f5c-909f-47b9006009f2',\n",
       " '7dc99125-5937-483b-a75a-f0493e352442',\n",
       " '8a767f95-2109-43bb-80b0-b17ff79f6a1c',\n",
       " '64825c6e-8074-4adf-8f54-462875593f95',\n",
       " 'fc62b2b6-e1fd-4ede-901f-bacba311f07b',\n",
       " '04ce4521-9595-475c-af18-22f1d396dde5',\n",
       " '8f67d704-bfa8-4a26-a4fd-62dc18170e42',\n",
       " '206ed23b-2fdc-4a89-8904-cb1c5b9a4fb0',\n",
       " 'c236e62d-3526-49f0-a2a2-216e4a6653d6',\n",
       " '6a082522-6730-4359-923b-f05f7e6c2b70',\n",
       " '85f40e06-5eb6-4487-8115-b13827276362',\n",
       " '525d4ed4-c65f-4f76-aad7-e2e2001ce86e',\n",
       " '10360021-a197-46aa-9c8e-feb3f542164d']"
      ]
     },
     "execution_count": 5,
     "metadata": {},
     "output_type": "execute_result"
    }
   ],
   "source": [
    "# GET FOLDER NAMES (SAMPLE ID'S)\n",
    "def get_folder_names(current_directory):\n",
    "    items_in_directory = os.listdir(current_directory)\n",
    "    directories_in_current_directory = [item for item in items_in_directory if os.path.isdir(os.path.join(current_directory, item))]\n",
    "    return directories_in_current_directory\n",
    "\n",
    "sample_ids = get_folder_names('data/raw_data/')\n",
    "sample_ids\n"
   ]
  },
  {
   "cell_type": "code",
   "execution_count": 6,
   "metadata": {},
   "outputs": [
    {
     "name": "stderr",
     "output_type": "stream",
     "text": [
      "100%|██████████| 20/20 [00:05<00:00,  3.53it/s]\n"
     ]
    },
    {
     "data": {
      "text/plain": [
       "{'f81ac8a2-4ce6-439e-b027-1c0bfc88ceaa': ['266fd576-2577-4294-bdaf-2d2d34a272b4'],\n",
       " '316625b8-a217-4829-90d1-dfd9cb7e4bc3': ['9db51366-c3ea-4510-904f-883f1a316cfe'],\n",
       " 'd093173f-08ab-4138-bf3c-399c45a6e163': ['791bbb6f-def9-47aa-b189-297205b68d99'],\n",
       " 'c31900a4-5dcd-4022-97ac-638e86e889e4': ['e26abc28-15b0-4832-bd02-43c5dd0b55e8',\n",
       "  'c236e62d-3526-49f0-a2a2-216e4a6653d6'],\n",
       " '33b7bf50-53f4-4839-aa83-9665f85671d8': ['66c5fda2-ef4c-4a89-88a1-43403ed9cc7c',\n",
       "  'b17e24bc-425a-4851-82fd-d344ad582f9c'],\n",
       " '0130d616-885e-4a6c-9d03-2f17dd692a05': ['62853e7e-71d0-484e-a58f-0db54e794112'],\n",
       " 'fe2cd610-aa52-4789-ac62-7683281bb22f': ['6a83b19d-999d-4f5c-909f-47b9006009f2'],\n",
       " 'fa4e082a-d213-412e-8d91-842a6f4bef12': ['7dc99125-5937-483b-a75a-f0493e352442'],\n",
       " '37242f5a-25ae-4b1f-9ce6-09ce1dc92539': ['8a767f95-2109-43bb-80b0-b17ff79f6a1c'],\n",
       " '35bd694d-1dd2-466f-ab27-03320614b40e': ['64825c6e-8074-4adf-8f54-462875593f95'],\n",
       " 'f55dd73d-8c36-440b-84e5-9aae53107775': ['fc62b2b6-e1fd-4ede-901f-bacba311f07b'],\n",
       " 'f63722c1-a0bb-4bf9-8a10-1d76a8e1a0ba': ['04ce4521-9595-475c-af18-22f1d396dde5'],\n",
       " 'd0b78f3f-a198-437a-ab8c-204345d3b75d': ['8f67d704-bfa8-4a26-a4fd-62dc18170e42'],\n",
       " 'f72c1d69-da35-459f-8542-59bfd6c09c23': ['206ed23b-2fdc-4a89-8904-cb1c5b9a4fb0'],\n",
       " '3c275152-d04b-440c-9621-2fc05ea977b6': ['6a082522-6730-4359-923b-f05f7e6c2b70'],\n",
       " '36220587-1c1c-4f92-b177-3b2155e7e273': ['85f40e06-5eb6-4487-8115-b13827276362'],\n",
       " '011b9b2d-ebe5-42bf-9662-d922faccc7a1': ['525d4ed4-c65f-4f76-aad7-e2e2001ce86e'],\n",
       " '378778d2-b331-4867-a93b-c64028c8b4c7': ['10360021-a197-46aa-9c8e-feb3f542164d']}"
      ]
     },
     "execution_count": 6,
     "metadata": {},
     "output_type": "execute_result"
    }
   ],
   "source": [
    "# FUNCTION TO GET CASE ID ASSOCIATED WITH SAMPLE ID \n",
    "def get_case_id(file_id):\n",
    "    # Construct the API request URL to search for cases containing the file\n",
    "    api_url = \"https://api.gdc.cancer.gov/cases\"\n",
    "\n",
    "    # Define the query payload to search for cases containing the file\n",
    "    query = {\n",
    "        \"filters\": {\n",
    "            \"op\": \"=\",\n",
    "            \"content\": {\n",
    "                \"field\": \"files.file_id\",\n",
    "                \"value\": [file_id]\n",
    "            }\n",
    "        },\n",
    "        \"fields\": \"case_id\"\n",
    "    }\n",
    "\n",
    "    # Send a POST request to the GDC API to search for cases containing the file\n",
    "    response = requests.post(api_url, json=query)\n",
    "\n",
    "    if response.status_code == 200:\n",
    "        data = response.json()[\"data\"]\n",
    "\n",
    "        if data[\"pagination\"][\"total\"] > 0:\n",
    "            # Extracting the case UUID(s) associated with the file\n",
    "            case_uuids = [case[\"case_id\"] for case in data[\"hits\"]]\n",
    "            return case_uuids[0] # only return first case id found\n",
    "        else:\n",
    "            print(f\"No cases found containing file {file_id}\")\n",
    "    else:\n",
    "        print(f\"Failed to retrieve information for file {file_id}\")\n",
    "\n",
    "\n",
    "# ORGANIZE SAMPLE IDS UNDER CASE ID\n",
    "case_to_sample_id = {}\n",
    "for sample_id in tqdm(sample_ids): \n",
    "    case_id = get_case_id(sample_id)\n",
    "\n",
    "    if case_id in case_to_sample_id: \n",
    "        case_to_sample_id[case_id].append(sample_id)\n",
    "    else:\n",
    "        case_to_sample_id[case_id] = [sample_id]\n",
    "\n",
    "case_to_sample_id"
   ]
  },
  {
   "cell_type": "code",
   "execution_count": 11,
   "metadata": {},
   "outputs": [
    {
     "name": "stderr",
     "output_type": "stream",
     "text": [
      "100%|██████████| 18/18 [00:00<00:00, 64.08it/s]\n"
     ]
    }
   ],
   "source": [
    "#### FUNCTION: COPYS OVER ALL TSV FILES FOR GIVEN CASE ID \n",
    "def copy_all_files(case_id, case_to_sample_id): \n",
    "    for sample_id in case_to_sample_id[case_id]:\n",
    "\n",
    "        file_name = [f for f in os.listdir(\"./data/raw_data/\" + str(sample_id)) if f.endswith(\".tsv\")][0]\n",
    "\n",
    "        if file_name.endswith(\".txt\"): \n",
    "            print(f\"ERRROR: {file_name} found in folder {sample_id}\")\n",
    "\n",
    "        source_path = \"./data/raw_data/\" + str(sample_id) + \"/\" + file_name\n",
    "        target_path = \"./data/processed_data/\" + str(case_id) + \"/\" + file_name\n",
    "        \n",
    "        os.makedirs(\"./data/processed_data/\" + str(case_id), exist_ok=True)\n",
    "        shutil.copy(source_path, target_path)\n",
    "\n",
    "# ITERATE THRU DICTIONARY TO COPY ALL FILES\n",
    "for case_id in tqdm(case_to_sample_id.keys()):\n",
    "    copy_all_files(case_id, case_to_sample_id)\n"
   ]
  }
 ],
 "metadata": {
  "kernelspec": {
   "display_name": "cs137",
   "language": "python",
   "name": "python3"
  },
  "language_info": {
   "codemirror_mode": {
    "name": "ipython",
    "version": 3
   },
   "file_extension": ".py",
   "mimetype": "text/x-python",
   "name": "python",
   "nbconvert_exporter": "python",
   "pygments_lexer": "ipython3",
   "version": "3.7.4"
  },
  "orig_nbformat": 4
 },
 "nbformat": 4,
 "nbformat_minor": 2
}
